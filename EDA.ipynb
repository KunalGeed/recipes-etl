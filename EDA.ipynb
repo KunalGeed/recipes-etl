{
 "cells": [
  {
   "cell_type": "code",
   "execution_count": 81,
   "metadata": {},
   "outputs": [],
   "source": [
    "from utils import *\n",
    "from fuzzywuzzy import fuzz\n",
    "import numpy as np\n",
    "import re"
   ]
  },
  {
   "cell_type": "code",
   "execution_count": 2,
   "metadata": {},
   "outputs": [],
   "source": [
    "filepath=\"dataset/recipes.json\"\n",
    "df=read_dataset(filepath)"
   ]
  },
  {
   "cell_type": "code",
   "execution_count": null,
   "metadata": {},
   "outputs": [],
   "source": [
    "df.head(5)"
   ]
  },
  {
   "cell_type": "code",
   "execution_count": 25,
   "metadata": {},
   "outputs": [],
   "source": [
    "string=df['ingredients'].iloc[1]"
   ]
  },
  {
   "cell_type": "code",
   "execution_count": 26,
   "metadata": {},
   "outputs": [
    {
     "name": "stdout",
     "output_type": "stream",
     "text": [
      "['3/4 cups Fresh Basil Leaves', '1/2 cup Grated Parmesan Cheese', '3 Tablespoons Pine Nuts', '2 cloves Garlic, Peeled', ' Salt And Pepper, to taste', '1/3 cup Extra Virgin Olive Oil', '1/2 cup Heavy Cream', '2 Tablespoons Butter', '1/4 cup Grated Parmesan (additional)', '12 ounces, weight Pasta (cavitappi, Fusili, Etc.)', '2 whole Tomatoes, Diced']\n"
     ]
    }
   ],
   "source": [
    "split_strings=string.split(\"\\n\")\n",
    "print(split_strings)"
   ]
  },
  {
   "cell_type": "code",
   "execution_count": 27,
   "metadata": {},
   "outputs": [
    {
     "name": "stdout",
     "output_type": "stream",
     "text": [
      "['3/4', 'cups', 'Fresh', 'Basil', 'Leaves', '1/2', 'cup', 'Grated', 'Parmesan', 'Cheese', '3', 'Tablespoons', 'Pine', 'Nuts', '2', 'cloves', 'Garlic,', 'Peeled', 'Salt', 'And', 'Pepper,', 'to', 'taste', '1/3', 'cup', 'Extra', 'Virgin', 'Olive', 'Oil', '1/2', 'cup', 'Heavy', 'Cream', '2', 'Tablespoons', 'Butter', '1/4', 'cup', 'Grated', 'Parmesan', '(additional)', '12', 'ounces,', 'weight', 'Pasta', '(cavitappi,', 'Fusili,', 'Etc.)', '2', 'whole', 'Tomatoes,', 'Diced']\n"
     ]
    }
   ],
   "source": [
    "# Further tokenize each string and apply fuzzy matching\n",
    "tokens = [token for string in split_strings for token in string.split()]\n",
    "print(tokens)"
   ]
  },
  {
   "cell_type": "code",
   "execution_count": 64,
   "metadata": {},
   "outputs": [
    {
     "name": "stdout",
     "output_type": "stream",
     "text": [
      "False\n",
      "0.00012999994214624166\n"
     ]
    }
   ],
   "source": [
    "target_word = \"pokemon\"\n",
    "import timeit\n",
    "start = timeit.timeit()\n",
    "print(np.any(np.vectorize(lambda x: fuzz.ratio(target_word, x.lower()) >= 85)(tokens)))\n",
    "end = timeit.timeit()\n",
    "print(end - start)"
   ]
  },
  {
   "cell_type": "code",
   "execution_count": 55,
   "metadata": {},
   "outputs": [
    {
     "name": "stdout",
     "output_type": "stream",
     "text": [
      "0.0004273999948054552\n"
     ]
    }
   ],
   "source": [
    "target_word = \"bsil\"\n",
    "import timeit\n",
    "start = timeit.timeit()\n",
    "any(fuzz.ratio(target_word, ingredient.lower()) >= 80 for ingredient in tokens)\n",
    "end = timeit.timeit()\n",
    "print(end - start)"
   ]
  },
  {
   "cell_type": "code",
   "execution_count": 42,
   "metadata": {},
   "outputs": [
    {
     "data": {
      "text/plain": [
       "88"
      ]
     },
     "execution_count": 42,
     "metadata": {},
     "output_type": "execute_result"
    }
   ],
   "source": [
    "fuzz.ratio(\"chile\", \"chillies\")"
   ]
  },
  {
   "cell_type": "code",
   "execution_count": 78,
   "metadata": {},
   "outputs": [
    {
     "data": {
      "text/html": [
       "<div>\n",
       "<style scoped>\n",
       "    .dataframe tbody tr th:only-of-type {\n",
       "        vertical-align: middle;\n",
       "    }\n",
       "\n",
       "    .dataframe tbody tr th {\n",
       "        vertical-align: top;\n",
       "    }\n",
       "\n",
       "    .dataframe thead th {\n",
       "        text-align: right;\n",
       "    }\n",
       "</style>\n",
       "<table border=\"1\" class=\"dataframe\">\n",
       "  <thead>\n",
       "    <tr style=\"text-align: right;\">\n",
       "      <th></th>\n",
       "      <th>name</th>\n",
       "      <th>cookTime</th>\n",
       "      <th>prepTime</th>\n",
       "    </tr>\n",
       "  </thead>\n",
       "  <tbody>\n",
       "    <tr>\n",
       "      <th>0</th>\n",
       "      <td>Easter Leftover Sandwich</td>\n",
       "      <td>PT</td>\n",
       "      <td>PT15M</td>\n",
       "    </tr>\n",
       "    <tr>\n",
       "      <th>1</th>\n",
       "      <td>Pasta with Pesto Cream Sauce</td>\n",
       "      <td>PT10M</td>\n",
       "      <td>PT6M</td>\n",
       "    </tr>\n",
       "    <tr>\n",
       "      <th>2</th>\n",
       "      <td>Herb Roasted Pork Tenderloin with Preserves</td>\n",
       "      <td>PT15M</td>\n",
       "      <td>PT5M</td>\n",
       "    </tr>\n",
       "    <tr>\n",
       "      <th>3</th>\n",
       "      <td>Chicken Florentine Pasta</td>\n",
       "      <td>PT20M</td>\n",
       "      <td>PT10M</td>\n",
       "    </tr>\n",
       "    <tr>\n",
       "      <th>4</th>\n",
       "      <td>Perfect Iced Coffee</td>\n",
       "      <td>PT</td>\n",
       "      <td>PT8H</td>\n",
       "    </tr>\n",
       "    <tr>\n",
       "      <th>...</th>\n",
       "      <td>...</td>\n",
       "      <td>...</td>\n",
       "      <td>...</td>\n",
       "    </tr>\n",
       "    <tr>\n",
       "      <th>1037</th>\n",
       "      <td>Golden Potstickers</td>\n",
       "      <td>PT10M</td>\n",
       "      <td>PT60M</td>\n",
       "    </tr>\n",
       "    <tr>\n",
       "      <th>1038</th>\n",
       "      <td>Gougères</td>\n",
       "      <td>PT30M</td>\n",
       "      <td>PT10M</td>\n",
       "    </tr>\n",
       "    <tr>\n",
       "      <th>1039</th>\n",
       "      <td>Parmesan Cheese Spread</td>\n",
       "      <td></td>\n",
       "      <td>PT5M</td>\n",
       "    </tr>\n",
       "    <tr>\n",
       "      <th>1040</th>\n",
       "      <td>Mast-o-Khiar Yogurt Dip</td>\n",
       "      <td></td>\n",
       "      <td>PT5M</td>\n",
       "    </tr>\n",
       "    <tr>\n",
       "      <th>1041</th>\n",
       "      <td>Fennel Mushrooms</td>\n",
       "      <td>PT7M</td>\n",
       "      <td>PT5M</td>\n",
       "    </tr>\n",
       "  </tbody>\n",
       "</table>\n",
       "<p>1042 rows × 3 columns</p>\n",
       "</div>"
      ],
      "text/plain": [
       "                                             name cookTime prepTime\n",
       "0                        Easter Leftover Sandwich       PT    PT15M\n",
       "1                    Pasta with Pesto Cream Sauce    PT10M     PT6M\n",
       "2     Herb Roasted Pork Tenderloin with Preserves    PT15M     PT5M\n",
       "3                        Chicken Florentine Pasta    PT20M    PT10M\n",
       "4                             Perfect Iced Coffee       PT     PT8H\n",
       "...                                           ...      ...      ...\n",
       "1037                           Golden Potstickers    PT10M    PT60M\n",
       "1038                                     Gougères    PT30M    PT10M\n",
       "1039                       Parmesan Cheese Spread              PT5M\n",
       "1040                      Mast-o-Khiar Yogurt Dip              PT5M\n",
       "1041                             Fennel Mushrooms     PT7M     PT5M\n",
       "\n",
       "[1042 rows x 3 columns]"
      ]
     },
     "execution_count": 78,
     "metadata": {},
     "output_type": "execute_result"
    }
   ],
   "source": [
    "df[['name','cookTime','prepTime']]"
   ]
  },
  {
   "cell_type": "code",
   "execution_count": null,
   "metadata": {},
   "outputs": [],
   "source": []
  },
  {
   "cell_type": "code",
   "execution_count": 80,
   "metadata": {},
   "outputs": [
    {
     "data": {
      "text/plain": [
       "array(['PT', 'PT10M', 'PT15M', 'PT20M', 'PT5M', 'PT25M', 'PT2M',\n",
       "       'PT1H15M', 'PT1H', 'PT45M', 'PT30M', 'PT3H', 'PT18M', 'PT2H',\n",
       "       'PT40M', 'PT3M', 'PT4H', 'PT7M', 'PT6H', 'PT12M', 'PT1H30M',\n",
       "       'PT2H30M', 'PT11M', 'PT23M', 'PT9M', 'PT35M', 'PT9H', 'PT50M',\n",
       "       'PT7H', 'PT8M', 'PT1H10M', 'PT6M', 'PT22M', 'PT13M', 'PT55M', '',\n",
       "       'PT60M', 'PT120M', 'PT90M', 'PT100M', 'PT180M', 'PT70M'],\n",
       "      dtype=object)"
      ]
     },
     "execution_count": 80,
     "metadata": {},
     "output_type": "execute_result"
    }
   ],
   "source": [
    "df['cookTime'].unique()"
   ]
  },
  {
   "cell_type": "code",
   "execution_count": 72,
   "metadata": {},
   "outputs": [
    {
     "data": {
      "text/html": [
       "<div>\n",
       "<style scoped>\n",
       "    .dataframe tbody tr th:only-of-type {\n",
       "        vertical-align: middle;\n",
       "    }\n",
       "\n",
       "    .dataframe tbody tr th {\n",
       "        vertical-align: top;\n",
       "    }\n",
       "\n",
       "    .dataframe thead th {\n",
       "        text-align: right;\n",
       "    }\n",
       "</style>\n",
       "<table border=\"1\" class=\"dataframe\">\n",
       "  <thead>\n",
       "    <tr style=\"text-align: right;\">\n",
       "      <th></th>\n",
       "      <th>name</th>\n",
       "      <th>ingredients</th>\n",
       "      <th>url</th>\n",
       "      <th>image</th>\n",
       "      <th>cookTime</th>\n",
       "      <th>recipeYield</th>\n",
       "      <th>datePublished</th>\n",
       "      <th>prepTime</th>\n",
       "      <th>description</th>\n",
       "    </tr>\n",
       "  </thead>\n",
       "  <tbody>\n",
       "    <tr>\n",
       "      <th>539</th>\n",
       "      <td>Big Sur Bakery Hide Bread Recipe</td>\n",
       "      <td>5 cups all-purpose flour, plus extra flour for...</td>\n",
       "      <td>http://www.101cookbooks.com/archives/big-sur-b...</td>\n",
       "      <td>http://www.101cookbooks.com/mt-static/images/f...</td>\n",
       "      <td></td>\n",
       "      <td></td>\n",
       "      <td>2009-07-06</td>\n",
       "      <td></td>\n",
       "      <td>From the Big Sur Bakery cookbook, a seed-packe...</td>\n",
       "    </tr>\n",
       "    <tr>\n",
       "      <th>544</th>\n",
       "      <td>Seeded Flatbread Recipe</td>\n",
       "      <td>4 1/2 cups / 1 lb. 6.5 oz / 640 g White Whole ...</td>\n",
       "      <td>http://www.101cookbooks.com/archives/seeded-fl...</td>\n",
       "      <td>http://www.101cookbooks.com/mt-static/images/f...</td>\n",
       "      <td></td>\n",
       "      <td></td>\n",
       "      <td>2009-12-09</td>\n",
       "      <td></td>\n",
       "      <td>This olive oil flatbread is made from white wh...</td>\n",
       "    </tr>\n",
       "    <tr>\n",
       "      <th>554</th>\n",
       "      <td></td>\n",
       "      <td>Salt\\nOne 35-ounce can Italian plum tomatoes (...</td>\n",
       "      <td>http://www.101cookbooks.com/archives/000054.html</td>\n",
       "      <td>http://www.101cookbooks.com/mt-static/images/f...</td>\n",
       "      <td></td>\n",
       "      <td></td>\n",
       "      <td>2003-05-27</td>\n",
       "      <td></td>\n",
       "      <td>101 Cookbooks: Penne alla Vodka Recipe</td>\n",
       "    </tr>\n",
       "    <tr>\n",
       "      <th>555</th>\n",
       "      <td>Scharffen Berger 70% Fudgy Brownies</td>\n",
       "      <td>6 ounces Scharffen Berger 70% Bittersweet choc...</td>\n",
       "      <td>http://www.101cookbooks.com/archives/000041.html</td>\n",
       "      <td>http://www.101cookbooks.com/mt-static/images/f...</td>\n",
       "      <td></td>\n",
       "      <td></td>\n",
       "      <td>2003-06-29</td>\n",
       "      <td></td>\n",
       "      <td>101 Cookbooks: Scharffen Berger 70% Fudgy Brow...</td>\n",
       "    </tr>\n",
       "    <tr>\n",
       "      <th>556</th>\n",
       "      <td>Chocolate Calypso Beans (remix)</td>\n",
       "      <td>1 lb. Jacob's Cattle beans\\n2 T. olive oil\\n1 ...</td>\n",
       "      <td>http://www.101cookbooks.com/archives/000116.html</td>\n",
       "      <td>http://www.101cookbooks.com/mt-static/images/f...</td>\n",
       "      <td></td>\n",
       "      <td></td>\n",
       "      <td>2004-09-06</td>\n",
       "      <td></td>\n",
       "      <td>101 Cookbooks: Chocolate Calypso Beans Recipe</td>\n",
       "    </tr>\n",
       "    <tr>\n",
       "      <th>...</th>\n",
       "      <td>...</td>\n",
       "      <td>...</td>\n",
       "      <td>...</td>\n",
       "      <td>...</td>\n",
       "      <td>...</td>\n",
       "      <td>...</td>\n",
       "      <td>...</td>\n",
       "      <td>...</td>\n",
       "      <td>...</td>\n",
       "    </tr>\n",
       "    <tr>\n",
       "      <th>1031</th>\n",
       "      <td>Monica Bhide's Chile Pea Puffs</td>\n",
       "      <td>nonstick cooking spray (HS note: or a bit of o...</td>\n",
       "      <td>http://www.101cookbooks.com/archives/monica-bh...</td>\n",
       "      <td>http://www.101cookbooks.com/mt-static/images/f...</td>\n",
       "      <td></td>\n",
       "      <td>Makes 32 puffs.</td>\n",
       "      <td>2009-04-29</td>\n",
       "      <td></td>\n",
       "      <td>Monica Bhide's Chile Pea Puff recipe - crispy-...</td>\n",
       "    </tr>\n",
       "    <tr>\n",
       "      <th>1032</th>\n",
       "      <td>Baked Sweet Potato Falafel Recipe</td>\n",
       "      <td>2 medium sweet potatoes (orange inside), aroun...</td>\n",
       "      <td>http://www.101cookbooks.com/archives/baked-swe...</td>\n",
       "      <td>http://www.101cookbooks.com/mt-static/images/f...</td>\n",
       "      <td></td>\n",
       "      <td></td>\n",
       "      <td>2009-05-17</td>\n",
       "      <td></td>\n",
       "      <td>Baked Sweet Potato Falafel recipe from the Leo...</td>\n",
       "    </tr>\n",
       "    <tr>\n",
       "      <th>1036</th>\n",
       "      <td>Liptauer Cheese Crostini</td>\n",
       "      <td>8 ounces / goat cheese, room temperature\\n4 oz...</td>\n",
       "      <td>http://www.101cookbooks.com/archives/liptauer-...</td>\n",
       "      <td>http://www.101cookbooks.com/mt-static/images/f...</td>\n",
       "      <td></td>\n",
       "      <td>Makes about 1 1/2 cups.</td>\n",
       "      <td>2011-04-21</td>\n",
       "      <td>PT10M</td>\n",
       "      <td>A couple book signing pics. And in an effort t...</td>\n",
       "    </tr>\n",
       "    <tr>\n",
       "      <th>1039</th>\n",
       "      <td>Parmesan Cheese Spread</td>\n",
       "      <td>2 1/2 cups / 5 1/2 oz / 150g finely grated Par...</td>\n",
       "      <td>http://www.101cookbooks.com/archives/parmesan-...</td>\n",
       "      <td>http://www.101cookbooks.com/mt-static/images/f...</td>\n",
       "      <td></td>\n",
       "      <td>Makes ~1 1/2 cups of spread.</td>\n",
       "      <td>2012-05-09</td>\n",
       "      <td>PT5M</td>\n",
       "      <td>A Parmesan cheese spread made with grated chee...</td>\n",
       "    </tr>\n",
       "    <tr>\n",
       "      <th>1040</th>\n",
       "      <td>Mast-o-Khiar Yogurt Dip</td>\n",
       "      <td>2 medium garlic cloves, peeled\\n1/2 teaspoon f...</td>\n",
       "      <td>http://www.101cookbooks.com/archives/mastokhia...</td>\n",
       "      <td>http://www.101cookbooks.com/mt-static/images/f...</td>\n",
       "      <td></td>\n",
       "      <td>Serves 6-8.</td>\n",
       "      <td>2012-09-08</td>\n",
       "      <td>PT5M</td>\n",
       "      <td>The prettiest dip in my repertoire - my take o...</td>\n",
       "    </tr>\n",
       "  </tbody>\n",
       "</table>\n",
       "<p>326 rows × 9 columns</p>\n",
       "</div>"
      ],
      "text/plain": [
       "                                     name  \\\n",
       "539      Big Sur Bakery Hide Bread Recipe   \n",
       "544               Seeded Flatbread Recipe   \n",
       "554                                         \n",
       "555   Scharffen Berger 70% Fudgy Brownies   \n",
       "556       Chocolate Calypso Beans (remix)   \n",
       "...                                   ...   \n",
       "1031       Monica Bhide's Chile Pea Puffs   \n",
       "1032    Baked Sweet Potato Falafel Recipe   \n",
       "1036             Liptauer Cheese Crostini   \n",
       "1039               Parmesan Cheese Spread   \n",
       "1040              Mast-o-Khiar Yogurt Dip   \n",
       "\n",
       "                                            ingredients  \\\n",
       "539   5 cups all-purpose flour, plus extra flour for...   \n",
       "544   4 1/2 cups / 1 lb. 6.5 oz / 640 g White Whole ...   \n",
       "554   Salt\\nOne 35-ounce can Italian plum tomatoes (...   \n",
       "555   6 ounces Scharffen Berger 70% Bittersweet choc...   \n",
       "556   1 lb. Jacob's Cattle beans\\n2 T. olive oil\\n1 ...   \n",
       "...                                                 ...   \n",
       "1031  nonstick cooking spray (HS note: or a bit of o...   \n",
       "1032  2 medium sweet potatoes (orange inside), aroun...   \n",
       "1036  8 ounces / goat cheese, room temperature\\n4 oz...   \n",
       "1039  2 1/2 cups / 5 1/2 oz / 150g finely grated Par...   \n",
       "1040  2 medium garlic cloves, peeled\\n1/2 teaspoon f...   \n",
       "\n",
       "                                                    url  \\\n",
       "539   http://www.101cookbooks.com/archives/big-sur-b...   \n",
       "544   http://www.101cookbooks.com/archives/seeded-fl...   \n",
       "554    http://www.101cookbooks.com/archives/000054.html   \n",
       "555    http://www.101cookbooks.com/archives/000041.html   \n",
       "556    http://www.101cookbooks.com/archives/000116.html   \n",
       "...                                                 ...   \n",
       "1031  http://www.101cookbooks.com/archives/monica-bh...   \n",
       "1032  http://www.101cookbooks.com/archives/baked-swe...   \n",
       "1036  http://www.101cookbooks.com/archives/liptauer-...   \n",
       "1039  http://www.101cookbooks.com/archives/parmesan-...   \n",
       "1040  http://www.101cookbooks.com/archives/mastokhia...   \n",
       "\n",
       "                                                  image cookTime  \\\n",
       "539   http://www.101cookbooks.com/mt-static/images/f...            \n",
       "544   http://www.101cookbooks.com/mt-static/images/f...            \n",
       "554   http://www.101cookbooks.com/mt-static/images/f...            \n",
       "555   http://www.101cookbooks.com/mt-static/images/f...            \n",
       "556   http://www.101cookbooks.com/mt-static/images/f...            \n",
       "...                                                 ...      ...   \n",
       "1031  http://www.101cookbooks.com/mt-static/images/f...            \n",
       "1032  http://www.101cookbooks.com/mt-static/images/f...            \n",
       "1036  http://www.101cookbooks.com/mt-static/images/f...            \n",
       "1039  http://www.101cookbooks.com/mt-static/images/f...            \n",
       "1040  http://www.101cookbooks.com/mt-static/images/f...            \n",
       "\n",
       "                       recipeYield datePublished prepTime  \\\n",
       "539                                   2009-07-06            \n",
       "544                                   2009-12-09            \n",
       "554                                   2003-05-27            \n",
       "555                                   2003-06-29            \n",
       "556                                   2004-09-06            \n",
       "...                            ...           ...      ...   \n",
       "1031               Makes 32 puffs.    2009-04-29            \n",
       "1032                                  2009-05-17            \n",
       "1036       Makes about 1 1/2 cups.    2011-04-21    PT10M   \n",
       "1039  Makes ~1 1/2 cups of spread.    2012-05-09     PT5M   \n",
       "1040                   Serves 6-8.    2012-09-08     PT5M   \n",
       "\n",
       "                                            description  \n",
       "539   From the Big Sur Bakery cookbook, a seed-packe...  \n",
       "544   This olive oil flatbread is made from white wh...  \n",
       "554              101 Cookbooks: Penne alla Vodka Recipe  \n",
       "555   101 Cookbooks: Scharffen Berger 70% Fudgy Brow...  \n",
       "556       101 Cookbooks: Chocolate Calypso Beans Recipe  \n",
       "...                                                 ...  \n",
       "1031  Monica Bhide's Chile Pea Puff recipe - crispy-...  \n",
       "1032  Baked Sweet Potato Falafel recipe from the Leo...  \n",
       "1036  A couple book signing pics. And in an effort t...  \n",
       "1039  A Parmesan cheese spread made with grated chee...  \n",
       "1040  The prettiest dip in my repertoire - my take o...  \n",
       "\n",
       "[326 rows x 9 columns]"
      ]
     },
     "execution_count": 72,
     "metadata": {},
     "output_type": "execute_result"
    }
   ],
   "source": [
    "df[df['cookTime'].isna() | (df['cookTime'] == '')]"
   ]
  },
  {
   "cell_type": "code",
   "execution_count": 96,
   "metadata": {},
   "outputs": [
    {
     "name": "stdout",
     "output_type": "stream",
     "text": [
      "15\n"
     ]
    },
    {
     "ename": "AttributeError",
     "evalue": "'NoneType' object has no attribute 'group'",
     "output_type": "error",
     "traceback": [
      "\u001b[1;31m---------------------------------------------------------------------------\u001b[0m",
      "\u001b[1;31mAttributeError\u001b[0m                            Traceback (most recent call last)",
      "Cell \u001b[1;32mIn[96], line 4\u001b[0m\n\u001b[0;32m      2\u001b[0m mins_match \u001b[38;5;241m=\u001b[39m re\u001b[38;5;241m.\u001b[39msearch(\u001b[38;5;124mr\u001b[39m\u001b[38;5;124m'\u001b[39m\u001b[38;5;124m(\u001b[39m\u001b[38;5;124m\\\u001b[39m\u001b[38;5;124md+)M\u001b[39m\u001b[38;5;124m'\u001b[39m, \u001b[38;5;124m\"\u001b[39m\u001b[38;5;124mPT30H15M\u001b[39m\u001b[38;5;124m\"\u001b[39m)\n\u001b[0;32m      3\u001b[0m \u001b[38;5;28mprint\u001b[39m(\u001b[38;5;28mint\u001b[39m(mins_match\u001b[38;5;241m.\u001b[39mgroup(\u001b[38;5;241m1\u001b[39m)))\n\u001b[1;32m----> 4\u001b[0m \u001b[38;5;28mprint\u001b[39m(\u001b[38;5;28mint\u001b[39m(\u001b[43mhours_match\u001b[49m\u001b[38;5;241;43m.\u001b[39;49m\u001b[43mgroup\u001b[49m(\u001b[38;5;241m1\u001b[39m)))\n",
      "\u001b[1;31mAttributeError\u001b[0m: 'NoneType' object has no attribute 'group'"
     ]
    }
   ],
   "source": [
    "hours_match = re.search(r'(\\d+)H', \"PT\")\n",
    "mins_match = re.search(r'(\\d+)M', \"PT30H15M\")\n",
    "print(int(mins_match.group(1)))\n",
    "print(int(hours_match.group(1)))"
   ]
  },
  {
   "cell_type": "code",
   "execution_count": 98,
   "metadata": {},
   "outputs": [
    {
     "name": "stdout",
     "output_type": "stream",
     "text": [
      "0\n",
      "10\n"
     ]
    }
   ],
   "source": [
    "time_str=\"PT10M\"\n",
    "hours_match = re.search(r'(\\d+)H', time_str)\n",
    "minutes_match = re.search(r'(\\d+)M', time_str)\n",
    "\n",
    "hours = int(hours_match.group(1)) if hours_match else 0\n",
    "minutes = int(minutes_match.group(1)) if minutes_match else 0\n",
    "print(hours)\n",
    "print(minutes)\n"
   ]
  }
 ],
 "metadata": {
  "kernelspec": {
   "display_name": "venv",
   "language": "python",
   "name": "python3"
  },
  "language_info": {
   "codemirror_mode": {
    "name": "ipython",
    "version": 3
   },
   "file_extension": ".py",
   "mimetype": "text/x-python",
   "name": "python",
   "nbconvert_exporter": "python",
   "pygments_lexer": "ipython3",
   "version": "3.10.5"
  }
 },
 "nbformat": 4,
 "nbformat_minor": 2
}
