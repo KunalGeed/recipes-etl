{
 "cells": [
  {
   "cell_type": "code",
   "execution_count": 12,
   "metadata": {},
   "outputs": [],
   "source": [
    "from utils import *\n",
    "from fuzzywuzzy import fuzz\n",
    "import numpy as np"
   ]
  },
  {
   "cell_type": "code",
   "execution_count": 2,
   "metadata": {},
   "outputs": [],
   "source": [
    "filepath=\"dataset/recipes.json\"\n",
    "df=read_dataset(filepath)"
   ]
  },
  {
   "cell_type": "code",
   "execution_count": null,
   "metadata": {},
   "outputs": [],
   "source": [
    "df.head(5)"
   ]
  },
  {
   "cell_type": "code",
   "execution_count": 25,
   "metadata": {},
   "outputs": [],
   "source": [
    "string=df['ingredients'].iloc[1]"
   ]
  },
  {
   "cell_type": "code",
   "execution_count": 26,
   "metadata": {},
   "outputs": [
    {
     "name": "stdout",
     "output_type": "stream",
     "text": [
      "['3/4 cups Fresh Basil Leaves', '1/2 cup Grated Parmesan Cheese', '3 Tablespoons Pine Nuts', '2 cloves Garlic, Peeled', ' Salt And Pepper, to taste', '1/3 cup Extra Virgin Olive Oil', '1/2 cup Heavy Cream', '2 Tablespoons Butter', '1/4 cup Grated Parmesan (additional)', '12 ounces, weight Pasta (cavitappi, Fusili, Etc.)', '2 whole Tomatoes, Diced']\n"
     ]
    }
   ],
   "source": [
    "split_strings=string.split(\"\\n\")\n",
    "print(split_strings)"
   ]
  },
  {
   "cell_type": "code",
   "execution_count": 27,
   "metadata": {},
   "outputs": [
    {
     "name": "stdout",
     "output_type": "stream",
     "text": [
      "['3/4', 'cups', 'Fresh', 'Basil', 'Leaves', '1/2', 'cup', 'Grated', 'Parmesan', 'Cheese', '3', 'Tablespoons', 'Pine', 'Nuts', '2', 'cloves', 'Garlic,', 'Peeled', 'Salt', 'And', 'Pepper,', 'to', 'taste', '1/3', 'cup', 'Extra', 'Virgin', 'Olive', 'Oil', '1/2', 'cup', 'Heavy', 'Cream', '2', 'Tablespoons', 'Butter', '1/4', 'cup', 'Grated', 'Parmesan', '(additional)', '12', 'ounces,', 'weight', 'Pasta', '(cavitappi,', 'Fusili,', 'Etc.)', '2', 'whole', 'Tomatoes,', 'Diced']\n"
     ]
    }
   ],
   "source": [
    "# Further tokenize each string and apply fuzzy matching\n",
    "tokens = [token for string in split_strings for token in string.split()]\n",
    "print(tokens)"
   ]
  },
  {
   "cell_type": "code",
   "execution_count": 64,
   "metadata": {},
   "outputs": [
    {
     "name": "stdout",
     "output_type": "stream",
     "text": [
      "False\n",
      "0.00012999994214624166\n"
     ]
    }
   ],
   "source": [
    "target_word = \"pokemon\"\n",
    "import timeit\n",
    "start = timeit.timeit()\n",
    "print(np.any(np.vectorize(lambda x: fuzz.ratio(target_word, x.lower()) >= 85)(tokens)))\n",
    "end = timeit.timeit()\n",
    "print(end - start)"
   ]
  },
  {
   "cell_type": "code",
   "execution_count": 55,
   "metadata": {},
   "outputs": [
    {
     "name": "stdout",
     "output_type": "stream",
     "text": [
      "0.0004273999948054552\n"
     ]
    }
   ],
   "source": [
    "target_word = \"bsil\"\n",
    "import timeit\n",
    "start = timeit.timeit()\n",
    "any(fuzz.ratio(target_word, ingredient.lower()) >= 80 for ingredient in tokens)\n",
    "end = timeit.timeit()\n",
    "print(end - start)"
   ]
  },
  {
   "cell_type": "code",
   "execution_count": 42,
   "metadata": {},
   "outputs": [
    {
     "data": {
      "text/plain": [
       "88"
      ]
     },
     "execution_count": 42,
     "metadata": {},
     "output_type": "execute_result"
    }
   ],
   "source": [
    "fuzz.ratio(\"chile\", \"chillies\")"
   ]
  },
  {
   "cell_type": "code",
   "execution_count": 67,
   "metadata": {},
   "outputs": [
    {
     "data": {
      "text/html": [
       "<div>\n",
       "<style scoped>\n",
       "    .dataframe tbody tr th:only-of-type {\n",
       "        vertical-align: middle;\n",
       "    }\n",
       "\n",
       "    .dataframe tbody tr th {\n",
       "        vertical-align: top;\n",
       "    }\n",
       "\n",
       "    .dataframe thead th {\n",
       "        text-align: right;\n",
       "    }\n",
       "</style>\n",
       "<table border=\"1\" class=\"dataframe\">\n",
       "  <thead>\n",
       "    <tr style=\"text-align: right;\">\n",
       "      <th></th>\n",
       "      <th>name</th>\n",
       "      <th>cookTime</th>\n",
       "      <th>prepTime</th>\n",
       "    </tr>\n",
       "  </thead>\n",
       "  <tbody>\n",
       "    <tr>\n",
       "      <th>0</th>\n",
       "      <td>Easter Leftover Sandwich</td>\n",
       "      <td>PT</td>\n",
       "      <td>PT15M</td>\n",
       "    </tr>\n",
       "    <tr>\n",
       "      <th>1</th>\n",
       "      <td>Pasta with Pesto Cream Sauce</td>\n",
       "      <td>PT10M</td>\n",
       "      <td>PT6M</td>\n",
       "    </tr>\n",
       "    <tr>\n",
       "      <th>2</th>\n",
       "      <td>Herb Roasted Pork Tenderloin with Preserves</td>\n",
       "      <td>PT15M</td>\n",
       "      <td>PT5M</td>\n",
       "    </tr>\n",
       "    <tr>\n",
       "      <th>3</th>\n",
       "      <td>Chicken Florentine Pasta</td>\n",
       "      <td>PT20M</td>\n",
       "      <td>PT10M</td>\n",
       "    </tr>\n",
       "    <tr>\n",
       "      <th>4</th>\n",
       "      <td>Perfect Iced Coffee</td>\n",
       "      <td>PT</td>\n",
       "      <td>PT8H</td>\n",
       "    </tr>\n",
       "    <tr>\n",
       "      <th>...</th>\n",
       "      <td>...</td>\n",
       "      <td>...</td>\n",
       "      <td>...</td>\n",
       "    </tr>\n",
       "    <tr>\n",
       "      <th>1037</th>\n",
       "      <td>Golden Potstickers</td>\n",
       "      <td>PT10M</td>\n",
       "      <td>PT60M</td>\n",
       "    </tr>\n",
       "    <tr>\n",
       "      <th>1038</th>\n",
       "      <td>Gougères</td>\n",
       "      <td>PT30M</td>\n",
       "      <td>PT10M</td>\n",
       "    </tr>\n",
       "    <tr>\n",
       "      <th>1039</th>\n",
       "      <td>Parmesan Cheese Spread</td>\n",
       "      <td></td>\n",
       "      <td>PT5M</td>\n",
       "    </tr>\n",
       "    <tr>\n",
       "      <th>1040</th>\n",
       "      <td>Mast-o-Khiar Yogurt Dip</td>\n",
       "      <td></td>\n",
       "      <td>PT5M</td>\n",
       "    </tr>\n",
       "    <tr>\n",
       "      <th>1041</th>\n",
       "      <td>Fennel Mushrooms</td>\n",
       "      <td>PT7M</td>\n",
       "      <td>PT5M</td>\n",
       "    </tr>\n",
       "  </tbody>\n",
       "</table>\n",
       "<p>1042 rows × 3 columns</p>\n",
       "</div>"
      ],
      "text/plain": [
       "                                             name cookTime prepTime\n",
       "0                        Easter Leftover Sandwich       PT    PT15M\n",
       "1                    Pasta with Pesto Cream Sauce    PT10M     PT6M\n",
       "2     Herb Roasted Pork Tenderloin with Preserves    PT15M     PT5M\n",
       "3                        Chicken Florentine Pasta    PT20M    PT10M\n",
       "4                             Perfect Iced Coffee       PT     PT8H\n",
       "...                                           ...      ...      ...\n",
       "1037                           Golden Potstickers    PT10M    PT60M\n",
       "1038                                     Gougères    PT30M    PT10M\n",
       "1039                       Parmesan Cheese Spread              PT5M\n",
       "1040                      Mast-o-Khiar Yogurt Dip              PT5M\n",
       "1041                             Fennel Mushrooms     PT7M     PT5M\n",
       "\n",
       "[1042 rows x 3 columns]"
      ]
     },
     "execution_count": 67,
     "metadata": {},
     "output_type": "execute_result"
    }
   ],
   "source": [
    "df[['name','cookTime','prepTime']]"
   ]
  },
  {
   "cell_type": "code",
   "execution_count": 69,
   "metadata": {},
   "outputs": [
    {
     "name": "stdout",
     "output_type": "stream",
     "text": [
      "{'7', 'T', '8', '2', '0', '4', '5', 'H', '3', '9', 'M', '6', '1', 'P'}\n"
     ]
    }
   ],
   "source": [
    "def unique_characters(s):\n",
    "    return set(s[-1])\n",
    "\n",
    "# Apply the function to the specified column and collect unique characters\n",
    "unique_chars = df['cookTime'].apply(unique_characters)\n",
    "\n",
    "# Combine all unique characters into a single set\n",
    "all_unique_chars = set().union(*unique_chars)\n",
    "print(all_unique_chars)"
   ]
  }
 ],
 "metadata": {
  "kernelspec": {
   "display_name": "venv",
   "language": "python",
   "name": "python3"
  },
  "language_info": {
   "codemirror_mode": {
    "name": "ipython",
    "version": 3
   },
   "file_extension": ".py",
   "mimetype": "text/x-python",
   "name": "python",
   "nbconvert_exporter": "python",
   "pygments_lexer": "ipython3",
   "version": "3.10.5"
  }
 },
 "nbformat": 4,
 "nbformat_minor": 2
}
